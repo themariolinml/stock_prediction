{
 "cells": [
  {
   "cell_type": "code",
   "execution_count": 3,
   "metadata": {},
   "outputs": [],
   "source": [
    "import os\n",
    "import pandas as pd"
   ]
  },
  {
   "cell_type": "markdown",
   "metadata": {},
   "source": [
    "# Read Data"
   ]
  },
  {
   "cell_type": "code",
   "execution_count": 4,
   "metadata": {},
   "outputs": [
    {
     "data": {
      "text/html": [
       "<div>\n",
       "<style scoped>\n",
       "    .dataframe tbody tr th:only-of-type {\n",
       "        vertical-align: middle;\n",
       "    }\n",
       "\n",
       "    .dataframe tbody tr th {\n",
       "        vertical-align: top;\n",
       "    }\n",
       "\n",
       "    .dataframe thead th {\n",
       "        text-align: right;\n",
       "    }\n",
       "</style>\n",
       "<table border=\"1\" class=\"dataframe\">\n",
       "  <thead>\n",
       "    <tr style=\"text-align: right;\">\n",
       "      <th></th>\n",
       "      <th>Date</th>\n",
       "      <th>Tweet</th>\n",
       "      <th>Stock Name</th>\n",
       "      <th>Company Name</th>\n",
       "    </tr>\n",
       "  </thead>\n",
       "  <tbody>\n",
       "    <tr>\n",
       "      <th>0</th>\n",
       "      <td>2022-09-29 23:41:16+00:00</td>\n",
       "      <td>Mainstream media has done an amazing job at br...</td>\n",
       "      <td>TSLA</td>\n",
       "      <td>Tesla, Inc.</td>\n",
       "    </tr>\n",
       "    <tr>\n",
       "      <th>1</th>\n",
       "      <td>2022-09-29 23:24:43+00:00</td>\n",
       "      <td>Tesla delivery estimates are at around 364k fr...</td>\n",
       "      <td>TSLA</td>\n",
       "      <td>Tesla, Inc.</td>\n",
       "    </tr>\n",
       "    <tr>\n",
       "      <th>2</th>\n",
       "      <td>2022-09-29 23:18:08+00:00</td>\n",
       "      <td>3/ Even if I include 63.0M unvested RSUs as of...</td>\n",
       "      <td>TSLA</td>\n",
       "      <td>Tesla, Inc.</td>\n",
       "    </tr>\n",
       "    <tr>\n",
       "      <th>3</th>\n",
       "      <td>2022-09-29 22:40:07+00:00</td>\n",
       "      <td>@RealDanODowd @WholeMarsBlog @Tesla Hahaha why...</td>\n",
       "      <td>TSLA</td>\n",
       "      <td>Tesla, Inc.</td>\n",
       "    </tr>\n",
       "    <tr>\n",
       "      <th>4</th>\n",
       "      <td>2022-09-29 22:27:05+00:00</td>\n",
       "      <td>@RealDanODowd @Tesla Stop trying to kill kids,...</td>\n",
       "      <td>TSLA</td>\n",
       "      <td>Tesla, Inc.</td>\n",
       "    </tr>\n",
       "  </tbody>\n",
       "</table>\n",
       "</div>"
      ],
      "text/plain": [
       "                        Date  \\\n",
       "0  2022-09-29 23:41:16+00:00   \n",
       "1  2022-09-29 23:24:43+00:00   \n",
       "2  2022-09-29 23:18:08+00:00   \n",
       "3  2022-09-29 22:40:07+00:00   \n",
       "4  2022-09-29 22:27:05+00:00   \n",
       "\n",
       "                                               Tweet Stock Name Company Name  \n",
       "0  Mainstream media has done an amazing job at br...       TSLA  Tesla, Inc.  \n",
       "1  Tesla delivery estimates are at around 364k fr...       TSLA  Tesla, Inc.  \n",
       "2  3/ Even if I include 63.0M unvested RSUs as of...       TSLA  Tesla, Inc.  \n",
       "3  @RealDanODowd @WholeMarsBlog @Tesla Hahaha why...       TSLA  Tesla, Inc.  \n",
       "4  @RealDanODowd @Tesla Stop trying to kill kids,...       TSLA  Tesla, Inc.  "
      ]
     },
     "execution_count": 4,
     "metadata": {},
     "output_type": "execute_result"
    }
   ],
   "source": [
    "curr_dir = os.getcwd()\n",
    "df = pd.read_csv(os.path.join(curr_dir, \"data/stock_tweets.csv\"))\n",
    "df.head()"
   ]
  },
  {
   "cell_type": "code",
   "execution_count": 6,
   "metadata": {},
   "outputs": [
    {
     "data": {
      "text/html": [
       "<div>\n",
       "<style scoped>\n",
       "    .dataframe tbody tr th:only-of-type {\n",
       "        vertical-align: middle;\n",
       "    }\n",
       "\n",
       "    .dataframe tbody tr th {\n",
       "        vertical-align: top;\n",
       "    }\n",
       "\n",
       "    .dataframe thead th {\n",
       "        text-align: right;\n",
       "    }\n",
       "</style>\n",
       "<table border=\"1\" class=\"dataframe\">\n",
       "  <thead>\n",
       "    <tr style=\"text-align: right;\">\n",
       "      <th></th>\n",
       "      <th>Date</th>\n",
       "      <th>Open</th>\n",
       "      <th>High</th>\n",
       "      <th>Low</th>\n",
       "      <th>Close</th>\n",
       "      <th>Adj Close</th>\n",
       "      <th>Volume</th>\n",
       "      <th>Stock Name</th>\n",
       "    </tr>\n",
       "  </thead>\n",
       "  <tbody>\n",
       "    <tr>\n",
       "      <th>6295</th>\n",
       "      <td>2022-09-23</td>\n",
       "      <td>13.09</td>\n",
       "      <td>13.892</td>\n",
       "      <td>12.86</td>\n",
       "      <td>13.71</td>\n",
       "      <td>13.71</td>\n",
       "      <td>28279600</td>\n",
       "      <td>XPEV</td>\n",
       "    </tr>\n",
       "    <tr>\n",
       "      <th>6296</th>\n",
       "      <td>2022-09-26</td>\n",
       "      <td>14.28</td>\n",
       "      <td>14.830</td>\n",
       "      <td>14.07</td>\n",
       "      <td>14.37</td>\n",
       "      <td>14.37</td>\n",
       "      <td>27891300</td>\n",
       "      <td>XPEV</td>\n",
       "    </tr>\n",
       "    <tr>\n",
       "      <th>6297</th>\n",
       "      <td>2022-09-27</td>\n",
       "      <td>14.58</td>\n",
       "      <td>14.800</td>\n",
       "      <td>13.58</td>\n",
       "      <td>13.71</td>\n",
       "      <td>13.71</td>\n",
       "      <td>21160800</td>\n",
       "      <td>XPEV</td>\n",
       "    </tr>\n",
       "    <tr>\n",
       "      <th>6298</th>\n",
       "      <td>2022-09-28</td>\n",
       "      <td>13.05</td>\n",
       "      <td>13.421</td>\n",
       "      <td>12.69</td>\n",
       "      <td>13.33</td>\n",
       "      <td>13.33</td>\n",
       "      <td>31799400</td>\n",
       "      <td>XPEV</td>\n",
       "    </tr>\n",
       "    <tr>\n",
       "      <th>6299</th>\n",
       "      <td>2022-09-29</td>\n",
       "      <td>12.55</td>\n",
       "      <td>12.850</td>\n",
       "      <td>11.85</td>\n",
       "      <td>12.11</td>\n",
       "      <td>12.11</td>\n",
       "      <td>33044800</td>\n",
       "      <td>XPEV</td>\n",
       "    </tr>\n",
       "  </tbody>\n",
       "</table>\n",
       "</div>"
      ],
      "text/plain": [
       "            Date   Open    High    Low  Close  Adj Close    Volume Stock Name\n",
       "6295  2022-09-23  13.09  13.892  12.86  13.71      13.71  28279600       XPEV\n",
       "6296  2022-09-26  14.28  14.830  14.07  14.37      14.37  27891300       XPEV\n",
       "6297  2022-09-27  14.58  14.800  13.58  13.71      13.71  21160800       XPEV\n",
       "6298  2022-09-28  13.05  13.421  12.69  13.33      13.33  31799400       XPEV\n",
       "6299  2022-09-29  12.55  12.850  11.85  12.11      12.11  33044800       XPEV"
      ]
     },
     "execution_count": 6,
     "metadata": {},
     "output_type": "execute_result"
    }
   ],
   "source": [
    "df2 = pd.read_csv(os.path.join(curr_dir, \"data/stock_yfinance_data.csv\"))\n",
    "df2.tail()"
   ]
  },
  {
   "cell_type": "markdown",
   "metadata": {},
   "source": [
    "# Check Data"
   ]
  },
  {
   "cell_type": "code",
   "execution_count": 7,
   "metadata": {},
   "outputs": [
    {
     "data": {
      "text/plain": [
       "<Axes: xlabel='Stock Name'>"
      ]
     },
     "execution_count": 7,
     "metadata": {},
     "output_type": "execute_result"
    },
    {
     "data": {
      "image/png": "[encoded data removed]",
      "text/plain": [
       "<Figure size 640x480 with 1 Axes>"
      ]
     },
     "metadata": {},
     "output_type": "display_data"
    }
   ],
   "source": [
    "df[\"Stock Name\"].value_counts(ascending=False).plot.bar()"
   ]
  },
  {
   "cell_type": "code",
   "execution_count": 8,
   "metadata": {},
   "outputs": [
    {
     "name": "stdout",
     "output_type": "stream",
     "text": [
      "Mainstream media has done an amazing job at brainwashing people. Today at work, we were asked what companies we believe in &amp; I said @Tesla because they make the safest cars &amp; EVERYONE disagreed with me because they heard“they catch on fire &amp; the batteries cost 20k to replace”\n"
     ]
    }
   ],
   "source": [
    "print(df[\"Tweet\"].iloc[0])"
   ]
  },
  {
   "cell_type": "code",
   "execution_count": 9,
   "metadata": {},
   "outputs": [
    {
     "data": {
      "text/html": [
       "<div>\n",
       "<style scoped>\n",
       "    .dataframe tbody tr th:only-of-type {\n",
       "        vertical-align: middle;\n",
       "    }\n",
       "\n",
       "    .dataframe tbody tr th {\n",
       "        vertical-align: top;\n",
       "    }\n",
       "\n",
       "    .dataframe thead th {\n",
       "        text-align: right;\n",
       "    }\n",
       "</style>\n",
       "<table border=\"1\" class=\"dataframe\">\n",
       "  <thead>\n",
       "    <tr style=\"text-align: right;\">\n",
       "      <th></th>\n",
       "      <th>Date</th>\n",
       "      <th>Tweet</th>\n",
       "      <th>Stock Name</th>\n",
       "      <th>Company Name</th>\n",
       "    </tr>\n",
       "  </thead>\n",
       "  <tbody>\n",
       "    <tr>\n",
       "      <th>count</th>\n",
       "      <td>80793</td>\n",
       "      <td>80793</td>\n",
       "      <td>80793</td>\n",
       "      <td>80793</td>\n",
       "    </tr>\n",
       "    <tr>\n",
       "      <th>unique</th>\n",
       "      <td>64424</td>\n",
       "      <td>64479</td>\n",
       "      <td>25</td>\n",
       "      <td>25</td>\n",
       "    </tr>\n",
       "    <tr>\n",
       "      <th>top</th>\n",
       "      <td>2022-07-07 18:32:41+00:00</td>\n",
       "      <td>$TSLA will triple in 2022 🚀🌕</td>\n",
       "      <td>TSLA</td>\n",
       "      <td>Tesla, Inc.</td>\n",
       "    </tr>\n",
       "    <tr>\n",
       "      <th>freq</th>\n",
       "      <td>14</td>\n",
       "      <td>25</td>\n",
       "      <td>37422</td>\n",
       "      <td>37422</td>\n",
       "    </tr>\n",
       "  </tbody>\n",
       "</table>\n",
       "</div>"
      ],
      "text/plain": [
       "                             Date                         Tweet Stock Name  \\\n",
       "count                       80793                         80793      80793   \n",
       "unique                      64424                         64479         25   \n",
       "top     2022-07-07 18:32:41+00:00  $TSLA will triple in 2022 🚀🌕       TSLA   \n",
       "freq                           14                            25      37422   \n",
       "\n",
       "       Company Name  \n",
       "count         80793  \n",
       "unique           25  \n",
       "top     Tesla, Inc.  \n",
       "freq          37422  "
      ]
     },
     "execution_count": 9,
     "metadata": {},
     "output_type": "execute_result"
    }
   ],
   "source": [
    "df.describe()"
   ]
  },
  {
   "cell_type": "code",
   "execution_count": 10,
   "metadata": {},
   "outputs": [
    {
     "data": {
      "text/plain": [
       "<Axes: xlabel='Stock Name'>"
      ]
     },
     "execution_count": 10,
     "metadata": {},
     "output_type": "execute_result"
    },
    {
     "data": {
      "image/png": "[encoded data removed]",
      "text/plain": [
       "<Figure size 640x480 with 1 Axes>"
      ]
     },
     "metadata": {},
     "output_type": "display_data"
    }
   ],
   "source": [
    "df2[\"Stock Name\"].value_counts(ascending=False).plot.bar()"
   ]
  },
  {
   "cell_type": "code",
   "execution_count": 11,
   "metadata": {},
   "outputs": [
    {
     "data": {
      "text/html": [
       "<div>\n",
       "<style scoped>\n",
       "    .dataframe tbody tr th:only-of-type {\n",
       "        vertical-align: middle;\n",
       "    }\n",
       "\n",
       "    .dataframe tbody tr th {\n",
       "        vertical-align: top;\n",
       "    }\n",
       "\n",
       "    .dataframe thead th {\n",
       "        text-align: right;\n",
       "    }\n",
       "</style>\n",
       "<table border=\"1\" class=\"dataframe\">\n",
       "  <thead>\n",
       "    <tr style=\"text-align: right;\">\n",
       "      <th></th>\n",
       "      <th>Open</th>\n",
       "      <th>High</th>\n",
       "      <th>Low</th>\n",
       "      <th>Close</th>\n",
       "      <th>Adj Close</th>\n",
       "      <th>Volume</th>\n",
       "    </tr>\n",
       "  </thead>\n",
       "  <tbody>\n",
       "    <tr>\n",
       "      <th>count</th>\n",
       "      <td>6300.000000</td>\n",
       "      <td>6300.000000</td>\n",
       "      <td>6300.000000</td>\n",
       "      <td>6300.000000</td>\n",
       "      <td>6300.000000</td>\n",
       "      <td>6.300000e+03</td>\n",
       "    </tr>\n",
       "    <tr>\n",
       "      <th>mean</th>\n",
       "      <td>174.748195</td>\n",
       "      <td>177.594589</td>\n",
       "      <td>171.734715</td>\n",
       "      <td>174.657624</td>\n",
       "      <td>173.756012</td>\n",
       "      <td>2.906806e+07</td>\n",
       "    </tr>\n",
       "    <tr>\n",
       "      <th>std</th>\n",
       "      <td>134.989675</td>\n",
       "      <td>136.795419</td>\n",
       "      <td>133.049955</td>\n",
       "      <td>134.949601</td>\n",
       "      <td>134.582934</td>\n",
       "      <td>3.342181e+07</td>\n",
       "    </tr>\n",
       "    <tr>\n",
       "      <th>min</th>\n",
       "      <td>11.050000</td>\n",
       "      <td>11.210000</td>\n",
       "      <td>10.610000</td>\n",
       "      <td>11.060000</td>\n",
       "      <td>10.837500</td>\n",
       "      <td>3.078000e+05</td>\n",
       "    </tr>\n",
       "    <tr>\n",
       "      <th>25%</th>\n",
       "      <td>78.170002</td>\n",
       "      <td>79.891003</td>\n",
       "      <td>76.792501</td>\n",
       "      <td>78.110001</td>\n",
       "      <td>78.110001</td>\n",
       "      <td>5.857700e+06</td>\n",
       "    </tr>\n",
       "    <tr>\n",
       "      <th>50%</th>\n",
       "      <td>145.475128</td>\n",
       "      <td>147.475006</td>\n",
       "      <td>143.501251</td>\n",
       "      <td>145.505005</td>\n",
       "      <td>144.248146</td>\n",
       "      <td>1.518830e+07</td>\n",
       "    </tr>\n",
       "    <tr>\n",
       "      <th>75%</th>\n",
       "      <td>225.665001</td>\n",
       "      <td>230.662498</td>\n",
       "      <td>221.452496</td>\n",
       "      <td>225.785000</td>\n",
       "      <td>225.785000</td>\n",
       "      <td>4.122928e+07</td>\n",
       "    </tr>\n",
       "    <tr>\n",
       "      <th>max</th>\n",
       "      <td>692.349976</td>\n",
       "      <td>700.989990</td>\n",
       "      <td>686.090027</td>\n",
       "      <td>691.690002</td>\n",
       "      <td>691.690002</td>\n",
       "      <td>3.116452e+08</td>\n",
       "    </tr>\n",
       "  </tbody>\n",
       "</table>\n",
       "</div>"
      ],
      "text/plain": [
       "              Open         High          Low        Close    Adj Close  \\\n",
       "count  6300.000000  6300.000000  6300.000000  6300.000000  6300.000000   \n",
       "mean    174.748195   177.594589   171.734715   174.657624   173.756012   \n",
       "std     134.989675   136.795419   133.049955   134.949601   134.582934   \n",
       "min      11.050000    11.210000    10.610000    11.060000    10.837500   \n",
       "25%      78.170002    79.891003    76.792501    78.110001    78.110001   \n",
       "50%     145.475128   147.475006   143.501251   145.505005   144.248146   \n",
       "75%     225.665001   230.662498   221.452496   225.785000   225.785000   \n",
       "max     692.349976   700.989990   686.090027   691.690002   691.690002   \n",
       "\n",
       "             Volume  \n",
       "count  6.300000e+03  \n",
       "mean   2.906806e+07  \n",
       "std    3.342181e+07  \n",
       "min    3.078000e+05  \n",
       "25%    5.857700e+06  \n",
       "50%    1.518830e+07  \n",
       "75%    4.122928e+07  \n",
       "max    3.116452e+08  "
      ]
     },
     "execution_count": 11,
     "metadata": {},
     "output_type": "execute_result"
    }
   ],
   "source": [
    "df2.describe()"
   ]
  }
 ],
 "metadata": {
  "kernelspec": {
   "display_name": ".venv",
   "language": "python",
   "name": "python3"
  },
  "language_info": {
   "codemirror_mode": {
    "name": "ipython",
    "version": 3
   },
   "file_extension": ".py",
   "mimetype": "text/x-python",
   "name": "python",
   "nbconvert_exporter": "python",
   "pygments_lexer": "ipython3",
   "version": "3.11.4"
  }
 },
 "nbformat": 4,
 "nbformat_minor": 2
}
