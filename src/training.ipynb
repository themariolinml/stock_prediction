{
 "cells": [
  {
   "cell_type": "code",
   "execution_count": 1,
   "metadata": {},
   "outputs": [],
   "source": [
    "from model_arch import MultitaskModel\n",
    "from utils import prepare_data, train_model, evaluate_model, evaluate_test_data, plot_losses\n",
    "\n",
    "import os\n",
    "import copy\n",
    "import pandas as pd\n",
    "from sklearn.ensemble import RandomForestClassifier, RandomForestRegressor\n",
    "from sklearn.metrics import accuracy_score, mean_squared_error\n",
    "\n",
    "import torch\n",
    "import torch.nn as nn\n",
    "import torch.optim as optim\n",
    "from torch.utils.data import DataLoader\n"
   ]
  },
  {
   "cell_type": "markdown",
   "metadata": {},
   "source": [
    "# Read Data"
   ]
  },
  {
   "cell_type": "code",
   "execution_count": 2,
   "metadata": {},
   "outputs": [],
   "source": [
    "curr_dir = os.getcwd()\n",
    "\n",
    "train = pd.read_parquet(os.path.join(curr_dir, \"data/train.parquet\"))\n",
    "val = pd.read_parquet(os.path.join(curr_dir, \"data/val.parquet\"))\n",
    "test = pd.read_parquet(os.path.join(curr_dir, \"data/test.parquet\"))"
   ]
  },
  {
   "cell_type": "markdown",
   "metadata": {},
   "source": [
    "# Baseline - Random Forest"
   ]
  },
  {
   "cell_type": "code",
   "execution_count": 160,
   "metadata": {},
   "outputs": [],
   "source": [
    "def prepare_data_for_rf(df: pd.DataFrame) -> tuple:\n",
    "    cols = [c for c in df.columns if \"dim\" in c] + [\"open\"]\n",
    "    df2 = df.drop(columns=[\"if_higher\", \"stock_name\", \"tweet\", \"company_name\", \"date\", 'open_target',\n",
    "                              'high_target', 'low_target', 'close_target',\n",
    "                              'adj_close_target', 'volume_target'])\n",
    "    X = df2[cols]\n",
    "    y_reg = df.close_target.tolist()\n",
    "    y_cls = df.if_higher.tolist()\n",
    "    return X, y_reg, y_cls"
   ]
  },
  {
   "cell_type": "code",
   "execution_count": 161,
   "metadata": {},
   "outputs": [],
   "source": [
    "X_train, y_reg_train, y_cls_train = prepare_data_for_rf(train)\n",
    "X_val, y_reg_val, y_cls_val = prepare_data_for_rf(val)\n",
    "X_test, y_reg_test, y_cls_test = prepare_data_for_rf(test)"
   ]
  },
  {
   "cell_type": "markdown",
   "metadata": {},
   "source": [
    "## Regressor"
   ]
  },
  {
   "cell_type": "code",
   "execution_count": 163,
   "metadata": {},
   "outputs": [],
   "source": [
    "# training regressor\n",
    "reg = RandomForestRegressor()\n",
    "reg.fit(X_train, y_reg_train)\n",
    "y_train_pred = reg.predict(X_train)"
   ]
  },
  {
   "cell_type": "code",
   "execution_count": 164,
   "metadata": {},
   "outputs": [
    {
     "name": "stdout",
     "output_type": "stream",
     "text": [
      "Train error 12.853029718953776\n",
      "Val error 50.53638275913058\n",
      "Test error 1336.4394978337311\n"
     ]
    }
   ],
   "source": [
    "y_val_pred = reg.predict(X_val)\n",
    "y_test_pred = reg.predict(X_test)\n",
    "print(\"Train error\", mean_squared_error(y_reg_train, y_train_pred))\n",
    "print(\"Val error\", mean_squared_error(y_reg_val, y_val_pred))\n",
    "print(\"Test error\", mean_squared_error(y_reg_test, y_test_pred))"
   ]
  },
  {
   "cell_type": "markdown",
   "metadata": {},
   "source": [
    "## Classifier"
   ]
  },
  {
   "cell_type": "code",
   "execution_count": 165,
   "metadata": {},
   "outputs": [],
   "source": [
    "# training regressor\n",
    "reg = RandomForestClassifier()\n",
    "reg.fit(X_train, y_cls_train)\n",
    "y_train_pred = reg.predict(X_train)"
   ]
  },
  {
   "cell_type": "code",
   "execution_count": 166,
   "metadata": {},
   "outputs": [
    {
     "name": "stdout",
     "output_type": "stream",
     "text": [
      "Train error 1.0\n",
      "Val error 0.5358851674641149\n",
      "Test error 0.4630071599045346\n"
     ]
    }
   ],
   "source": [
    "y_val_pred = reg.predict(X_val)\n",
    "y_test_pred = reg.predict(X_test)\n",
    "print(\"Train error\", accuracy_score(y_cls_train, y_train_pred))\n",
    "print(\"Val error\", accuracy_score(y_cls_val, y_val_pred))\n",
    "print(\"Test error\", accuracy_score(y_cls_test, y_test_pred))"
   ]
  },
  {
   "cell_type": "markdown",
   "metadata": {},
   "source": [
    "# Muli-task Learning Deep Neural Networks"
   ]
  },
  {
   "cell_type": "code",
   "execution_count": 3,
   "metadata": {},
   "outputs": [
    {
     "name": "stdout",
     "output_type": "stream",
     "text": [
      "Epoch [1/20], Loss: 21029.7396\n",
      "Epoch [2/20], Loss: 176.8088\n",
      "Epoch [3/20], Loss: 59.9349\n",
      "Epoch [4/20], Loss: 59.6975\n",
      "Epoch [5/20], Loss: 58.8204\n",
      "Epoch [6/20], Loss: 59.0867\n",
      "Epoch [7/20], Loss: 61.8766\n",
      "Epoch [8/20], Loss: 60.3664\n",
      "Epoch [9/20], Loss: 65.7406\n",
      "Epoch [10/20], Loss: 65.4770\n",
      "Epoch [11/20], Loss: 61.8591\n",
      "Epoch [12/20], Loss: 61.3493\n",
      "Epoch [13/20], Loss: 61.9283\n",
      "Epoch [14/20], Loss: 60.0801\n",
      "Epoch [15/20], Loss: 60.4644\n",
      "Epoch [16/20], Loss: 63.1937\n",
      "Epoch [17/20], Loss: 62.5648\n",
      "Epoch [18/20], Loss: 60.1607\n",
      "Epoch [19/20], Loss: 60.8489\n",
      "Epoch [20/20], Loss: 61.1129\n",
      "best epoch: 0 best val loss: 598.5045\n",
      "Test Loss: 3087.9433\n"
     ]
    }
   ],
   "source": [
    "# Main script\n",
    "if __name__ == \"__main__\":\n",
    "    # Hyperparameters\n",
    "    batch_size = 32\n",
    "    learning_rate = 0.001\n",
    "    num_epochs = 20\n",
    "\n",
    "    train_ds = prepare_data(train)\n",
    "    val_ds = prepare_data(val)\n",
    "    test_ds = prepare_data(test)\n",
    "    \n",
    "    batch_size = 32\n",
    "    train_loader = DataLoader(train_ds, batch_size=batch_size, shuffle=True)\n",
    "    val_loader = DataLoader(val_ds, batch_size=batch_size, shuffle=False)\n",
    "    test_loader = DataLoader(test_ds, batch_size=batch_size, shuffle=False)\n",
    "\n",
    "    # Initialize model, loss functions, and optimizer\n",
    "    model = MultitaskModel()\n",
    "    criterion_reg = nn.MSELoss()  # Loss for regression\n",
    "    criterion_class = nn.BCELoss()  # Loss for binary classification\n",
    "    optimizer = optim.Adam(model.parameters(), lr=learning_rate)\n",
    "\n",
    "    # Train model and validate\n",
    "    best_val_loss = float('-inf')\n",
    "    best_epoch = 0\n",
    "    total_train_loss = []\n",
    "    total_val_loss = []\n",
    "\n",
    "    for epoch in range(num_epochs):\n",
    "        train_loss = train_model(model, train_loader, criterion_reg, criterion_class, optimizer, num_epochs, epoch)\n",
    "        val_loss = evaluate_model(model, val_loader, criterion_reg, criterion_class)\n",
    "\n",
    "        total_train_loss.append(train_loss)\n",
    "        total_val_loss.append(val_loss)\n",
    "        \n",
    "        if val_loss > best_val_loss:\n",
    "            best_val_loss = val_loss\n",
    "            best_epoch = epoch\n",
    "            best_weights = copy.deepcopy(model.state_dict())\n",
    "    \n",
    "    print(\"best epoch: {} best val loss: {:.4f}\".format(best_epoch, best_val_loss))\n",
    "    model.load_state_dict(best_weights)\n",
    "    test_loss = evaluate_model(model, test_loader, criterion_reg, criterion_class)\n",
    "\n",
    "    #print(f\"Validation Loss: {val_loss:.4f}\")\n",
    "    print(f\"Test Loss: {test_loss:.4f}\")\n",
    "\n"
   ]
  },
  {
   "cell_type": "code",
   "execution_count": 4,
   "metadata": {},
   "outputs": [
    {
     "data": {
      "image/png": "[encoded data removed]",
      "text/plain": [
       "<Figure size 640x480 with 1 Axes>"
      ]
     },
     "metadata": {},
     "output_type": "display_data"
    }
   ],
   "source": [
    "# Plot train and validation loss\n",
    "plot_losses(total_train_loss, total_val_loss)"
   ]
  },
  {
   "cell_type": "markdown",
   "metadata": {},
   "source": [
    "# Evaluate Test"
   ]
  },
  {
   "cell_type": "code",
   "execution_count": 9,
   "metadata": {},
   "outputs": [
    {
     "name": "stdout",
     "output_type": "stream",
     "text": [
      "root_mean_squared_error for test 42.339836\n",
      "f1 score for test 0.7027863777089783\n"
     ]
    }
   ],
   "source": [
    "evaluate_test_data(test_loader, model)"
   ]
  },
  {
   "cell_type": "markdown",
   "metadata": {},
   "source": [
    "# Save Model"
   ]
  },
  {
   "cell_type": "code",
   "execution_count": 182,
   "metadata": {},
   "outputs": [],
   "source": [
    "torch.save(model.state_dict(), os.path.join(curr_dir, \"artifact/model.pth\"))"
   ]
  }
 ],
 "metadata": {
  "kernelspec": {
   "display_name": ".venv",
   "language": "python",
   "name": "python3"
  },
  "language_info": {
   "codemirror_mode": {
    "name": "ipython",
    "version": 3
   },
   "file_extension": ".py",
   "mimetype": "text/x-python",
   "name": "python",
   "nbconvert_exporter": "python",
   "pygments_lexer": "ipython3",
   "version": "3.11.4"
  }
 },
 "nbformat": 4,
 "nbformat_minor": 2
}
